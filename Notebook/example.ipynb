{
 "cells": [
  {
   "cell_type": "code",
   "execution_count": 1,
   "metadata": {},
   "outputs": [],
   "source": [
    "train_path = \"D:\\projects\\ML_demo\\housing\\artifact\\data_ingestion\\2023-09-08-15-11-59\\ingested_data\\train\\housing.csv\""
   ]
  },
  {
   "cell_type": "code",
   "execution_count": 3,
   "metadata": {},
   "outputs": [],
   "source": [
    "test_path = \"D:\\projects\\ML_demo\\housing\\artifact\\data_ingestion\\2023-09-08-15-11-59\\ingested_data\\test\\housing.csv\""
   ]
  },
  {
   "cell_type": "code",
   "execution_count": 2,
   "metadata": {},
   "outputs": [],
   "source": [
    "import pandas as pd\n",
    "import numpy as np"
   ]
  },
  {
   "cell_type": "code",
   "execution_count": 3,
   "metadata": {},
   "outputs": [
    {
     "data": {
      "text/plain": [
       "'D:\\\\projects\\\\ML_demo\\\\housing\\\\artifact\\\\data_ingestion\\\\2023-09-08-15-11-59\\\\ingested_data'"
      ]
     },
     "execution_count": 3,
     "metadata": {},
     "output_type": "execute_result"
    }
   ],
   "source": [
    "import os\n",
    "os.chdir(r\"D:\\projects\\ML_demo\\housing\\artifact\\data_ingestion\\2023-09-08-15-11-59\\ingested_data\")\n",
    "os.getcwd()"
   ]
  },
  {
   "cell_type": "code",
   "execution_count": 4,
   "metadata": {},
   "outputs": [],
   "source": [
    "train_df=pd.read_csv(\"train\\housing.csv\")\n",
    "test_df=pd.read_csv(\"test\\housing.csv\")"
   ]
  },
  {
   "cell_type": "code",
   "execution_count": 5,
   "metadata": {},
   "outputs": [
    {
     "data": {
      "text/html": [
       "<div>\n",
       "<style scoped>\n",
       "    .dataframe tbody tr th:only-of-type {\n",
       "        vertical-align: middle;\n",
       "    }\n",
       "\n",
       "    .dataframe tbody tr th {\n",
       "        vertical-align: top;\n",
       "    }\n",
       "\n",
       "    .dataframe thead th {\n",
       "        text-align: right;\n",
       "    }\n",
       "</style>\n",
       "<table border=\"1\" class=\"dataframe\">\n",
       "  <thead>\n",
       "    <tr style=\"text-align: right;\">\n",
       "      <th></th>\n",
       "      <th>longitude</th>\n",
       "      <th>latitude</th>\n",
       "      <th>housing_median_age</th>\n",
       "      <th>total_rooms</th>\n",
       "      <th>total_bedrooms</th>\n",
       "      <th>population</th>\n",
       "      <th>households</th>\n",
       "      <th>median_income</th>\n",
       "      <th>median_house_value</th>\n",
       "      <th>ocean_proximity</th>\n",
       "    </tr>\n",
       "  </thead>\n",
       "  <tbody>\n",
       "    <tr>\n",
       "      <th>0</th>\n",
       "      <td>-121.46</td>\n",
       "      <td>38.52</td>\n",
       "      <td>29.0</td>\n",
       "      <td>3873.0</td>\n",
       "      <td>797.0</td>\n",
       "      <td>2237.0</td>\n",
       "      <td>706.0</td>\n",
       "      <td>2.1736</td>\n",
       "      <td>72100.0</td>\n",
       "      <td>INLAND</td>\n",
       "    </tr>\n",
       "    <tr>\n",
       "      <th>1</th>\n",
       "      <td>-117.23</td>\n",
       "      <td>33.09</td>\n",
       "      <td>7.0</td>\n",
       "      <td>5320.0</td>\n",
       "      <td>855.0</td>\n",
       "      <td>2015.0</td>\n",
       "      <td>768.0</td>\n",
       "      <td>6.3373</td>\n",
       "      <td>279600.0</td>\n",
       "      <td>NEAR OCEAN</td>\n",
       "    </tr>\n",
       "    <tr>\n",
       "      <th>2</th>\n",
       "      <td>-119.04</td>\n",
       "      <td>35.37</td>\n",
       "      <td>44.0</td>\n",
       "      <td>1618.0</td>\n",
       "      <td>310.0</td>\n",
       "      <td>667.0</td>\n",
       "      <td>300.0</td>\n",
       "      <td>2.8750</td>\n",
       "      <td>82700.0</td>\n",
       "      <td>INLAND</td>\n",
       "    </tr>\n",
       "    <tr>\n",
       "      <th>3</th>\n",
       "      <td>-117.13</td>\n",
       "      <td>32.75</td>\n",
       "      <td>24.0</td>\n",
       "      <td>1877.0</td>\n",
       "      <td>519.0</td>\n",
       "      <td>898.0</td>\n",
       "      <td>483.0</td>\n",
       "      <td>2.2264</td>\n",
       "      <td>112500.0</td>\n",
       "      <td>NEAR OCEAN</td>\n",
       "    </tr>\n",
       "    <tr>\n",
       "      <th>4</th>\n",
       "      <td>-118.70</td>\n",
       "      <td>34.28</td>\n",
       "      <td>27.0</td>\n",
       "      <td>3536.0</td>\n",
       "      <td>646.0</td>\n",
       "      <td>1837.0</td>\n",
       "      <td>580.0</td>\n",
       "      <td>4.4964</td>\n",
       "      <td>238300.0</td>\n",
       "      <td>&lt;1H OCEAN</td>\n",
       "    </tr>\n",
       "  </tbody>\n",
       "</table>\n",
       "</div>"
      ],
      "text/plain": [
       "   longitude  latitude  housing_median_age  total_rooms  total_bedrooms  \\\n",
       "0    -121.46     38.52                29.0       3873.0           797.0   \n",
       "1    -117.23     33.09                 7.0       5320.0           855.0   \n",
       "2    -119.04     35.37                44.0       1618.0           310.0   \n",
       "3    -117.13     32.75                24.0       1877.0           519.0   \n",
       "4    -118.70     34.28                27.0       3536.0           646.0   \n",
       "\n",
       "   population  households  median_income  median_house_value ocean_proximity  \n",
       "0      2237.0       706.0         2.1736             72100.0          INLAND  \n",
       "1      2015.0       768.0         6.3373            279600.0      NEAR OCEAN  \n",
       "2       667.0       300.0         2.8750             82700.0          INLAND  \n",
       "3       898.0       483.0         2.2264            112500.0      NEAR OCEAN  \n",
       "4      1837.0       580.0         4.4964            238300.0       <1H OCEAN  "
      ]
     },
     "execution_count": 5,
     "metadata": {},
     "output_type": "execute_result"
    }
   ],
   "source": [
    "train_df.head()"
   ]
  },
  {
   "cell_type": "code",
   "execution_count": 20,
   "metadata": {},
   "outputs": [
    {
     "data": {
      "text/plain": [
       "longitude               0\n",
       "latitude                0\n",
       "housing_median_age      0\n",
       "total_rooms             0\n",
       "total_bedrooms        158\n",
       "population              0\n",
       "households              0\n",
       "median_income           0\n",
       "median_house_value      0\n",
       "ocean_proximity         0\n",
       "dtype: int64"
      ]
     },
     "execution_count": 20,
     "metadata": {},
     "output_type": "execute_result"
    }
   ],
   "source": [
    "train_df.isnull().sum()"
   ]
  },
  {
   "cell_type": "code",
   "execution_count": 6,
   "metadata": {},
   "outputs": [],
   "source": [
    "from housing.exception import HousingException\n",
    "from housing.logger import logging\n",
    "from housing.entity.config_entity import ModelTrainerConfig,TrainingPipelineConfig\n",
    "from housing.util.util import read_yaml_file\n",
    "from housing.constant import *\n",
    "import sys,os\n",
    "class Configuration:\n",
    "\n",
    "    def __init__(self,\n",
    "                 config_file_path:str=CONFIG_PATH_NAME,\n",
    "                 current_time_stamp:str=CURRENT_TIME_STAMP) -> None:\n",
    "        try:\n",
    "            self.config_info=read_yaml_file(file_path=config_file_path)\n",
    "            self.training_pipeline_config=self.get_training_pipeline_config()\n",
    "            self.time_stamp=current_time_stamp\n",
    "        except Exception as e:\n",
    "            raise HousingException(e,sys) from e\n",
    "        \n",
    "    def get_model_trainer_config(self) -> ModelTrainerConfig:\n",
    "        try:\n",
    "            logging.info(\"get model trainer config function started\")\n",
    "            artifact_dir=self.training_pipeline_config.artifact_dir\n",
    "            model_trainer_config=self.config_info[MODEL_TRAINER_CONFIG_KEY]\n",
    "\n",
    "            model_trainer_config_artifact_dir=os.path.join(artifact_dir,model_trainer_config[MODEL_TRAINER_ARTIFACT_DIR],self.time_stamp)\n",
    "\n",
    "            trained_model_path=os.path.join(model_trainer_config_artifact_dir,\n",
    "                                            model_trainer_config[MODEL_TRAINER_ARTIFACT_TRAINED_MODEL_DIR_KEY],\n",
    "                                            model_trainer_config[MODEL_TRAINER_MODEL_FILE_NAME_KEY])\n",
    "            \n",
    "            base_accuracy=model_trainer_config[MODEL_TRAINER_BASE_ACCURACY_KEY]\n",
    "\n",
    "            config_file_path=os.path.join(artifact_dir,\n",
    "                                          model_trainer_config[MODEL_TRAINER_CONFIG_DIR_KEY],\n",
    "                                          model_trainer_config[MODEL_TRAINER_CONFIG_FILENAME_KEY])\n",
    "            \n",
    "            Model_TrainerConfig=ModelTrainerConfig(trained_model_file_path=trained_model_path,\n",
    "                                                   base_accuracy=base_accuracy,\n",
    "                                                   model_config_file_path=config_file_path)\n",
    "            logging.info(f\"Model training config:{Model_TrainerConfig}\")\n",
    "\n",
    "            return Model_TrainerConfig\n",
    "        except Exception as e:\n",
    "            raise HousingException(e,sys) from e\n",
    "    def get_training_pipeline_config(self) -> TrainingPipelineConfig:\n",
    "        try:\n",
    "            training_piepline_config=self.config_info[TRAINING_PIPELINE_CONFIG_KEY]\n",
    "            artifact_dir=os.path.join(ROOT_DIR,\n",
    "                                      training_piepline_config[TRAINING_PIPELINE_NAME_KEY],\n",
    "                                      training_piepline_config[TRAINING_PIPELINE_ARTIFACT_DIR_KEY])\n",
    "            training_piepline_config=TrainingPipelineConfig(artifact_dir=artifact_dir)\n",
    "            logging.info(f\"training_pipeline_config{training_piepline_config}\")\n",
    "            return training_piepline_config \n",
    "        except Exception as e:\n",
    "            raise HousingException(e,sys) from e"
   ]
  },
  {
   "cell_type": "code",
   "execution_count": 10,
   "metadata": {},
   "outputs": [
    {
     "ename": "HousingException",
     "evalue": "'Configuration' object has no attribute 'get_training_pipeline_config'",
     "output_type": "error",
     "traceback": [
      "\u001b[1;31m---------------------------------------------------------------------------\u001b[0m",
      "\u001b[1;31mAttributeError\u001b[0m                            Traceback (most recent call last)",
      "\u001b[1;32md:\\projects\\ML_demo\\Notebook\\example.ipynb Cell 9\u001b[0m line \u001b[0;36mConfiguration.__init__\u001b[1;34m(self, config_file_path, current_time_stamp)\u001b[0m\n\u001b[0;32m     <a href='vscode-notebook-cell:/d%3A/projects/ML_demo/Notebook/example.ipynb#X14sZmlsZQ%3D%3D?line=12'>13</a>\u001b[0m \u001b[39mself\u001b[39m\u001b[39m.\u001b[39mconfig_info\u001b[39m=\u001b[39mread_yaml_file(file_path\u001b[39m=\u001b[39mconfig_file_path)\n\u001b[1;32m---> <a href='vscode-notebook-cell:/d%3A/projects/ML_demo/Notebook/example.ipynb#X14sZmlsZQ%3D%3D?line=13'>14</a>\u001b[0m \u001b[39mself\u001b[39m\u001b[39m.\u001b[39mtraining_pipeline_config\u001b[39m=\u001b[39m\u001b[39mself\u001b[39;49m\u001b[39m.\u001b[39;49mget_training_pipeline_config()\n\u001b[0;32m     <a href='vscode-notebook-cell:/d%3A/projects/ML_demo/Notebook/example.ipynb#X14sZmlsZQ%3D%3D?line=14'>15</a>\u001b[0m \u001b[39mself\u001b[39m\u001b[39m.\u001b[39mtime_stamp\u001b[39m=\u001b[39mcurrent_time_stamp\n",
      "\u001b[1;31mAttributeError\u001b[0m: 'Configuration' object has no attribute 'get_training_pipeline_config'",
      "\nThe above exception was the direct cause of the following exception:\n",
      "\u001b[1;31mHousingException\u001b[0m                          Traceback (most recent call last)",
      "\u001b[1;32md:\\projects\\ML_demo\\Notebook\\example.ipynb Cell 9\u001b[0m line \u001b[0;36m<cell line: 1>\u001b[1;34m()\u001b[0m\n\u001b[1;32m----> <a href='vscode-notebook-cell:/d%3A/projects/ML_demo/Notebook/example.ipynb#X14sZmlsZQ%3D%3D?line=0'>1</a>\u001b[0m conif\u001b[39m=\u001b[39mConfiguration()\n",
      "\u001b[1;32md:\\projects\\ML_demo\\Notebook\\example.ipynb Cell 9\u001b[0m line \u001b[0;36mConfiguration.__init__\u001b[1;34m(self, config_file_path, current_time_stamp)\u001b[0m\n\u001b[0;32m     <a href='vscode-notebook-cell:/d%3A/projects/ML_demo/Notebook/example.ipynb#X14sZmlsZQ%3D%3D?line=14'>15</a>\u001b[0m     \u001b[39mself\u001b[39m\u001b[39m.\u001b[39mtime_stamp\u001b[39m=\u001b[39mcurrent_time_stamp\n\u001b[0;32m     <a href='vscode-notebook-cell:/d%3A/projects/ML_demo/Notebook/example.ipynb#X14sZmlsZQ%3D%3D?line=15'>16</a>\u001b[0m \u001b[39mexcept\u001b[39;00m \u001b[39mException\u001b[39;00m \u001b[39mas\u001b[39;00m e:\n\u001b[1;32m---> <a href='vscode-notebook-cell:/d%3A/projects/ML_demo/Notebook/example.ipynb#X14sZmlsZQ%3D%3D?line=16'>17</a>\u001b[0m     \u001b[39mraise\u001b[39;00m HousingException(e,sys) \u001b[39mfrom\u001b[39;00m \u001b[39me\u001b[39;00m\n",
      "\u001b[1;31mHousingException\u001b[0m: 'Configuration' object has no attribute 'get_training_pipeline_config'"
     ]
    }
   ],
   "source": [
    "conif=Configuration()"
   ]
  },
  {
   "cell_type": "code",
   "execution_count": 2,
   "metadata": {},
   "outputs": [
    {
     "data": {
      "text/plain": [
       "'d:\\\\projects\\\\ML_demo\\\\Notebook'"
      ]
     },
     "execution_count": 2,
     "metadata": {},
     "output_type": "execute_result"
    }
   ],
   "source": [
    "import os\n",
    "os.getcwd()"
   ]
  },
  {
   "cell_type": "code",
   "execution_count": 5,
   "metadata": {},
   "outputs": [],
   "source": [
    "os.chdir(\"D:\\projects\\ML_demo\")"
   ]
  },
  {
   "cell_type": "code",
   "execution_count": 75,
   "metadata": {},
   "outputs": [],
   "source": [
    "from collections import namedtuple\n",
    "import importlib\n",
    "GRID_SEARCH_KEY = 'grid_search'\n",
    "MODULE_KEY = 'module'\n",
    "CLASS_KEY = 'class'\n",
    "PARAM_KEY = 'params'\n",
    "MODEL_SELECTION_KEY = 'model_selection'\n",
    "SEARCH_PARAM_GRID_KEY = \"search_param_grid\"\n",
    "InitializedModelDetail = namedtuple(\"InitializedModelDetail\",\n",
    "                                    [\"model_serial_number\", \"model\", \"param_grid_search\", \"model_name\"])\n",
    "GridSearchedBestModel = namedtuple(\"GridSearchedBestModel\", [\"model_serial_number\",\n",
    "                                                             \"model\",\n",
    "                                                             \"best_model\",\n",
    "                                                             \"best_parameters\",\n",
    "                                                             \"best_score\",\n",
    "                                                             ])\n",
    "BestModel = namedtuple(\"BestModel\", [\"model_serial_number\",\n",
    "                                     \"model\",\n",
    "                                     \"best_model\",\n",
    "                                     \"best_parameters\",\n",
    "                                     \"best_score\", ])"
   ]
  },
  {
   "cell_type": "code",
   "execution_count": 76,
   "metadata": {},
   "outputs": [],
   "source": [
    "import yaml\n",
    "class ModelFactory:\n",
    "    def __init__(self, model_config_path:str = None):\n",
    "        try:\n",
    "            self.config : dict = ModelFactory.read_param(model_config_path)\n",
    "            self.grid_serch_cv_module : str = self.config[GRID_SEARCH_KEY][MODULE_KEY]\n",
    "            self.grid_serch_class_module : str = self.config[GRID_SEARCH_KEY][CLASS_KEY]\n",
    "            self.grid_serch_property_data : dict= dict(self.config[GRID_SEARCH_KEY][PARAM_KEY])\n",
    "            self.model_intial_config : dict = dict(self.config[MODEL_SELECTION_KEY])\n",
    "            self.initlized_model_list = None\n",
    "            self.grid_serched_best_model_list = None\n",
    "            #print(self.get_initlized_model_list())\n",
    "            print(self.config)\n",
    "            print(self.model_intial_config)\n",
    "        except Exception as e:\n",
    "            raise HousingException(e,sys) from e\n",
    "    @staticmethod\n",
    "    def read_param(config_path:str)->dict:\n",
    "        try:\n",
    "            with open(config_path) as yaml_files:\n",
    "                config:dict = yaml.safe_load(yaml_files)\n",
    "                return config\n",
    "        except Exception as e:\n",
    "            raise HousingException(e,sys) from e\n",
    "    @staticmethod\n",
    "    def class_for_name(class_name:str, module_name:str):\n",
    "        try:\n",
    "            module = importlib.import_module(module_name)\n",
    "            class_ref = getattr(module, class_name)\n",
    "            return class_ref\n",
    "        except Exception as e:\n",
    "            raise HousingException(e,sys) from e\n",
    "    @staticmethod\n",
    "    def update_property_clas(insta_ref : object , property_data : dict):\n",
    "        try:\n",
    "            for key, value in property_data.items():\n",
    "                setattr(insta_ref, key, value)\n",
    "                return insta_ref\n",
    "        except Exception as e:\n",
    "            raise HousingException(e,sys) from e\n",
    "    \n",
    "    def get_initlized_model_list(self)->list[InitializedModelDetail]:\n",
    "        try:\n",
    "            intilized_model_list=[]\n",
    "            for model_seral_number in self.model_intial_config.keys():\n",
    "                model_config = self.model_intial_config[model_seral_number]\n",
    "                print(model_config)\n",
    "                model_object_ref = ModelFactory.class_for_name(module_name=model_config[MODULE_KEY],\n",
    "                                                               class_name=model_config[CLASS_KEY])\n",
    "                print(model_object_ref)\n",
    "                model = model_object_ref()\n",
    "\n",
    "                if PARAM_KEY in model_config:\n",
    "                    model_object_property_data = dict(model_config[PARAM_KEY])\n",
    "                    model = ModelFactory.update_property_clas(insta_ref=model, property_data = model_object_property_data)\n",
    "                param_grid_serach = model_config[SEARCH_PARAM_GRID_KEY]\n",
    "\n",
    "                model_name = f\"{model_config[MODULE_KEY]}.{model_config[CLASS_KEY]}\"\n",
    "\n",
    "                model_config = InitializedModelDetail(model_serial_number=model_seral_number,\n",
    "                                                      model=model,\n",
    "                                                      model_name=model_name,\n",
    "                                                      param_grid_search=param_grid_serach)\n",
    "                intilized_model_list.append(model_config)\n",
    "\n",
    "                self.initlized_model_list = intilized_model_list\n",
    "            return self.initlized_model_list\n",
    "        except Exception as e:\n",
    "            raise HousingException(e,sys) from e  \n",
    "    def initiate_best_parameter_search_for_initialized_models(self,initializedmodeldetails:list[InitializedModelDetail],\n",
    "                                                              input_feature,\n",
    "                                                              output_feature)->list[GridSearchedBestModel]:\n",
    "        try:\n",
    "            self.grid_serched_best_model_list=[]\n",
    "            for initializedmodeldetails in initializedmodeldetails:\n",
    "                grid_serched_best_model=self.initiate_best_parameter_search_for_initialized_model(\n",
    "                    initized_model=initializedmodeldetails,\n",
    "                    input_feature=input_feature,\n",
    "                    output_feature=output_feature\n",
    "                )\n",
    "                self.grid_serched_best_model_list.append(grid_serched_best_model)\n",
    "            return self.grid_serched_best_model_list\n",
    "        except Exception as e:\n",
    "            raise HousingException(e,sys) from e \n",
    "    def initiate_best_parameter_search_for_initialized_model(self,initializedmodeldetails:InitializedModelDetail,\n",
    "                                                              input_feature,\n",
    "                                                              output_feature)->GridSearchedBestModel:\n",
    "        try:\n",
    "            grid_search_cv_ref = ModelFactory.class_for_name(module_name=self.grid_serch_cv_module,\n",
    "                                                             class_name=self.grid_serch_class_module)\n",
    "            grid_serch_cv = grid_search_cv_ref(estimator=initializedmodeldetails.model,\n",
    "                                               param_grid = initializedmodeldetails.param_grid_search)\n",
    "            grid_serch_cv = ModelFactory.update_property_clas(grid_serch_cv, self.grid_serch_property_data)\n",
    "\n",
    "            grid_serch_cv.fit(input_feature,output_feature)\n",
    "\n",
    "            grid_search_best_model = GridSearchedBestModel(model_serial_number=initializedmodeldetails.model_serial_number,\n",
    "                                                           model=initializedmodeldetails.model,\n",
    "                                                           best_model=grid_serch_cv.best_estimator_,\n",
    "                                                             best_parameters=grid_serch_cv.best_params_,\n",
    "                                                             best_score=grid_serch_cv.best_score_)\n",
    "            return grid_search_best_model\n",
    "        except Exception as e:\n",
    "            raise HousingException(e,sys) from e \n",
    " "
   ]
  },
  {
   "cell_type": "code",
   "execution_count": 77,
   "metadata": {},
   "outputs": [
    {
     "name": "stdout",
     "output_type": "stream",
     "text": [
      "{'grid_search': {'class': 'GridSearchCV', 'module': 'sklearn.model_selection', 'params': {'cv': 5, 'verbose': 2}}, 'model_selection': {'module_0': {'class': 'LinearRegression', 'module': 'sklearn.linear_model', 'params': {'fit_intercept': True}, 'search_param_grid': {'fit_intercept': [True, False]}}, 'module_1': {'class': 'RandomForestRegressor', 'module': 'sklearn.ensemble', 'params': {'min_samples_leaf': 3}, 'search_param_grid': {'min_samples_leaf': [6]}}}}\n",
      "{'module_0': {'class': 'LinearRegression', 'module': 'sklearn.linear_model', 'params': {'fit_intercept': True}, 'search_param_grid': {'fit_intercept': [True, False]}}, 'module_1': {'class': 'RandomForestRegressor', 'module': 'sklearn.ensemble', 'params': {'min_samples_leaf': 3}, 'search_param_grid': {'min_samples_leaf': [6]}}}\n"
     ]
    }
   ],
   "source": [
    "model1=ModelFactory(\"D:\\projects\\ML_demo\\config\\model.yaml\")\n"
   ]
  },
  {
   "cell_type": "code",
   "execution_count": 78,
   "metadata": {},
   "outputs": [
    {
     "name": "stdout",
     "output_type": "stream",
     "text": [
      "{'class': 'LinearRegression', 'module': 'sklearn.linear_model', 'params': {'fit_intercept': True}, 'search_param_grid': {'fit_intercept': [True, False]}}\n",
      "<class 'sklearn.linear_model._base.LinearRegression'>\n",
      "{'class': 'RandomForestRegressor', 'module': 'sklearn.ensemble', 'params': {'min_samples_leaf': 3}, 'search_param_grid': {'min_samples_leaf': [6]}}\n",
      "<class 'sklearn.ensemble._forest.RandomForestRegressor'>\n"
     ]
    },
    {
     "data": {
      "text/plain": [
       "[InitializedModelDetail(model_serial_number='module_0', model=LinearRegression(), param_grid_search={'fit_intercept': [True, False]}, model_name='sklearn.linear_model.LinearRegression'),\n",
       " InitializedModelDetail(model_serial_number='module_1', model=RandomForestRegressor(min_samples_leaf=3), param_grid_search={'min_samples_leaf': [6]}, model_name='sklearn.ensemble.RandomForestRegressor')]"
      ]
     },
     "execution_count": 78,
     "metadata": {},
     "output_type": "execute_result"
    }
   ],
   "source": [
    "model1.get_initlized_model_list()"
   ]
  },
  {
   "cell_type": "code",
   "execution_count": 79,
   "metadata": {},
   "outputs": [],
   "source": [
    "import numpy as np\n",
    "import pandas as pd"
   ]
  },
  {
   "cell_type": "code",
   "execution_count": null,
   "metadata": {},
   "outputs": [],
   "source": []
  }
 ],
 "metadata": {
  "kernelspec": {
   "display_name": "Python 3",
   "language": "python",
   "name": "python3"
  },
  "language_info": {
   "codemirror_mode": {
    "name": "ipython",
    "version": 3
   },
   "file_extension": ".py",
   "mimetype": "text/x-python",
   "name": "python",
   "nbconvert_exporter": "python",
   "pygments_lexer": "ipython3",
   "version": "3.9.12"
  },
  "orig_nbformat": 4
 },
 "nbformat": 4,
 "nbformat_minor": 2
}
